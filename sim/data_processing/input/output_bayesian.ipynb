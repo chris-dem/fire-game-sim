{
 "cells": [
  {
   "cell_type": "code",
   "execution_count": 1,
   "metadata": {},
   "outputs": [],
   "source": [
    "import numpy as np\n",
    "import pandas as pd\n",
    "import matplotlib.pyplot  as plt\n",
    "import os\n",
    "\n"
   ]
  },
  {
   "cell_type": "code",
   "execution_count": 2,
   "metadata": {},
   "outputs": [
    {
     "data": {
      "text/html": [
       "<div>\n",
       "<style scoped>\n",
       "    .dataframe tbody tr th:only-of-type {\n",
       "        vertical-align: middle;\n",
       "    }\n",
       "\n",
       "    .dataframe tbody tr th {\n",
       "        vertical-align: top;\n",
       "    }\n",
       "\n",
       "    .dataframe thead th {\n",
       "        text-align: right;\n",
       "    }\n",
       "</style>\n",
       "<table border=\"1\" class=\"dataframe\">\n",
       "  <thead>\n",
       "    <tr style=\"text-align: right;\">\n",
       "      <th></th>\n",
       "      <th>Learning rate cooperation</th>\n",
       "      <th>Learning rate domination</th>\n",
       "      <th>Escape Aspiration factor</th>\n",
       "      <th>Cost ratio factor</th>\n",
       "      <th>Reward factor</th>\n",
       "      <th>Exit influence</th>\n",
       "      <th>Fire influence</th>\n",
       "      <th>Result</th>\n",
       "    </tr>\n",
       "  </thead>\n",
       "  <tbody>\n",
       "    <tr>\n",
       "      <th>mean</th>\n",
       "      <td>0.594506</td>\n",
       "      <td>0.530539</td>\n",
       "      <td>0.008795</td>\n",
       "      <td>0.568218</td>\n",
       "      <td>0.442542</td>\n",
       "      <td>1.483194</td>\n",
       "      <td>0.972430</td>\n",
       "      <td>0.967123</td>\n",
       "    </tr>\n",
       "    <tr>\n",
       "      <th>std</th>\n",
       "      <td>0.258689</td>\n",
       "      <td>0.266913</td>\n",
       "      <td>0.006755</td>\n",
       "      <td>0.129065</td>\n",
       "      <td>0.275484</td>\n",
       "      <td>0.301655</td>\n",
       "      <td>0.320225</td>\n",
       "      <td>0.008508</td>\n",
       "    </tr>\n",
       "    <tr>\n",
       "      <th>min</th>\n",
       "      <td>0.094403</td>\n",
       "      <td>0.051460</td>\n",
       "      <td>0.000018</td>\n",
       "      <td>0.278054</td>\n",
       "      <td>0.100790</td>\n",
       "      <td>1.005078</td>\n",
       "      <td>0.512122</td>\n",
       "      <td>0.941892</td>\n",
       "    </tr>\n",
       "    <tr>\n",
       "      <th>25%</th>\n",
       "      <td>0.393357</td>\n",
       "      <td>0.291909</td>\n",
       "      <td>0.002756</td>\n",
       "      <td>0.483856</td>\n",
       "      <td>0.200416</td>\n",
       "      <td>1.195276</td>\n",
       "      <td>0.695118</td>\n",
       "      <td>0.962166</td>\n",
       "    </tr>\n",
       "    <tr>\n",
       "      <th>50%</th>\n",
       "      <td>0.615349</td>\n",
       "      <td>0.531266</td>\n",
       "      <td>0.007114</td>\n",
       "      <td>0.564277</td>\n",
       "      <td>0.359401</td>\n",
       "      <td>1.501485</td>\n",
       "      <td>0.967993</td>\n",
       "      <td>0.968619</td>\n",
       "    </tr>\n",
       "    <tr>\n",
       "      <th>75%</th>\n",
       "      <td>0.821363</td>\n",
       "      <td>0.766989</td>\n",
       "      <td>0.013773</td>\n",
       "      <td>0.645367</td>\n",
       "      <td>0.642865</td>\n",
       "      <td>1.738293</td>\n",
       "      <td>1.261383</td>\n",
       "      <td>0.973666</td>\n",
       "    </tr>\n",
       "    <tr>\n",
       "      <th>max</th>\n",
       "      <td>0.997347</td>\n",
       "      <td>0.984315</td>\n",
       "      <td>0.025202</td>\n",
       "      <td>0.928271</td>\n",
       "      <td>0.989778</td>\n",
       "      <td>1.996318</td>\n",
       "      <td>1.485907</td>\n",
       "      <td>0.980955</td>\n",
       "    </tr>\n",
       "  </tbody>\n",
       "</table>\n",
       "</div>"
      ],
      "text/plain": [
       "      Learning rate cooperation  Learning rate domination  \\\n",
       "mean                   0.594506                  0.530539   \n",
       "std                    0.258689                  0.266913   \n",
       "min                    0.094403                  0.051460   \n",
       "25%                    0.393357                  0.291909   \n",
       "50%                    0.615349                  0.531266   \n",
       "75%                    0.821363                  0.766989   \n",
       "max                    0.997347                  0.984315   \n",
       "\n",
       "      Escape Aspiration factor  Cost ratio factor  Reward factor  \\\n",
       "mean                  0.008795           0.568218       0.442542   \n",
       "std                   0.006755           0.129065       0.275484   \n",
       "min                   0.000018           0.278054       0.100790   \n",
       "25%                   0.002756           0.483856       0.200416   \n",
       "50%                   0.007114           0.564277       0.359401   \n",
       "75%                   0.013773           0.645367       0.642865   \n",
       "max                   0.025202           0.928271       0.989778   \n",
       "\n",
       "      Exit influence  Fire influence    Result  \n",
       "mean        1.483194        0.972430  0.967123  \n",
       "std         0.301655        0.320225  0.008508  \n",
       "min         1.005078        0.512122  0.941892  \n",
       "25%         1.195276        0.695118  0.962166  \n",
       "50%         1.501485        0.967993  0.968619  \n",
       "75%         1.738293        1.261383  0.973666  \n",
       "max         1.996318        1.485907  0.980955  "
      ]
     },
     "execution_count": 2,
     "metadata": {},
     "output_type": "execute_result"
    }
   ],
   "source": [
    "wd = os.path.relpath(os.path.join(os.getcwd(),\"..\",\"..\",\"output_eval\",\"bayesian_res.csv\"))\n",
    "results = pd.read_csv(wd)\n",
    "i = results.describe()\n",
    "i.iloc[1:,:]"
   ]
  },
  {
   "cell_type": "code",
   "execution_count": 3,
   "metadata": {},
   "outputs": [
    {
     "data": {
      "text/plain": [
       "Text(0.5, 1.0, 'Distribution between exit influence over fire influence')"
      ]
     },
     "execution_count": 3,
     "metadata": {},
     "output_type": "execute_result"
    },
    {
     "data": {
      "image/png": "[encoded data removed]",
      "text/plain": [
       "<Figure size 432x288 with 1 Axes>"
      ]
     },
     "metadata": {
      "needs_background": "light"
     },
     "output_type": "display_data"
    }
   ],
   "source": [
    "%matplotlib inline\n",
    "plt.rcParams.update({'font.size': 15})\n",
    "(results['Exit influence'] /results['Fire influence']).hist()\n",
    "plt.ylabel(\"Frequency\")\n",
    "plt.xlabel(\"Exit influence over fire influence ratio\")\n",
    "plt.title(\"Distribution between exit influence over fire influence\", pad = 20)"
   ]
  },
  {
   "attachments": {},
   "cell_type": "markdown",
   "metadata": {},
   "source": [
    "## Grid Search"
   ]
  },
  {
   "cell_type": "code",
   "execution_count": 81,
   "metadata": {},
   "outputs": [],
   "source": [
    "from mpl_toolkits.axes_grid1 import make_axes_locatable # Used to divide the main grid with the colour bar\n",
    "def display_grid(df : pd.DataFrame, rnge = np.around(np.arange(0.1,1.1,0.1)),decimals=2):\n",
    "    fig, ax = plt.subplots(1,1,figsize=(15,15)) # create plots and set the figure width and height to 300 x 50\n",
    "\n",
    "    im = ax.imshow(df['result'].to_numpy().reshape(len(rnge),10),cmap=\"magma\")  \n",
    "    ax.set_xticks(np.arange(10))\n",
    "    ax.set_xticklabels(np.around(np.arange(0.1,1.1,0.1),decimals=1))\n",
    "    ax.set_yticks(np.arange(len(rnge)))\n",
    "    ax.set_yticklabels(np.around(np.arange(0.1,1.1,0.1),decimals=1))\n",
    "\n",
    "    ax.tick_params(axis=\"both\",which=\"major\", pad = 15)\n",
    "    ax.tick_params(axis=\"both\",which=\"minor\", pad = 15)\n",
    "\n",
    "    # ax.set_xlabel(df.keys()[1])\n",
    "    # ax.set_ylabel(df.keys()[0])\n",
    "\n",
    "    divider = make_axes_locatable(ax)\n",
    "    cax = divider.append_axes(\"right\", size=\"5%\", pad=0.05) # create a an axis towards the right of the grid\n",
    "\n",
    "    cbar = plt.colorbar(im, cax=cax) # plot the color bar\n",
    "\n",
    "    cbar.ax.set_ylabel(\"Objective function\", rotation=-90, va=\"bottom\",fontsize=20) # add color bar labels\n",
    "    # Let the horizontal axes labeling appear on top.\n",
    "    # ax.tick_params(top=True, bottom=False,\n",
    "    #                 labeltop=True, labelbottom=False)\n",
    "    ax.set_ylabel(\"Reward factor\",fontsize=30)\n",
    "    ax.set_xlabel(\"Ratio factor\" ,fontsize=30)\n",
    "    ax.set_title(\"Reward / Ratio grid performance\", pad = 20)\n",
    "    plt.show() # show the plot\n",
    "\n"
   ]
  },
  {
   "cell_type": "code",
   "execution_count": 20,
   "metadata": {},
   "outputs": [
    {
     "ename": "NameError",
     "evalue": "name 'display_grid' is not defined",
     "output_type": "error",
     "traceback": [
      "\u001b[1;31m---------------------------------------------------------------------------\u001b[0m",
      "\u001b[1;31mNameError\u001b[0m                                 Traceback (most recent call last)",
      "\u001b[1;32m~\\AppData\\Local\\Temp/ipykernel_5716/3792281772.py\u001b[0m in \u001b[0;36m<module>\u001b[1;34m\u001b[0m\n\u001b[0;32m      1\u001b[0m \u001b[0mdf\u001b[0m \u001b[1;33m=\u001b[0m \u001b[0mpd\u001b[0m\u001b[1;33m.\u001b[0m\u001b[0mread_csv\u001b[0m\u001b[1;33m(\u001b[0m\u001b[1;34m\"../../output_eval/lcld_1.txt\"\u001b[0m\u001b[1;33m)\u001b[0m\u001b[1;33m\u001b[0m\u001b[1;33m\u001b[0m\u001b[0m\n\u001b[1;32m----> 2\u001b[1;33m \u001b[0mdisplay_grid\u001b[0m\u001b[1;33m(\u001b[0m\u001b[0mdf\u001b[0m\u001b[1;33m)\u001b[0m\u001b[1;33m\u001b[0m\u001b[1;33m\u001b[0m\u001b[0m\n\u001b[0m",
      "\u001b[1;31mNameError\u001b[0m: name 'display_grid' is not defined"
     ]
    }
   ],
   "source": [
    "df = pd.read_csv(\"../../output_eval/lcld_1.txt\")\n",
    "display_grid(df)\n"
   ]
  },
  {
   "cell_type": "code",
   "execution_count": null,
   "metadata": {},
   "outputs": [
    {
     "data": {
      "text/plain": [
       "(               lc          ld      result\n",
       " count  100.000000  100.000000  100.000000\n",
       " mean     0.550000    0.550000    1.200761\n",
       " std      0.288675    0.288675    0.037356\n",
       " min      0.100000    0.100000    1.115801\n",
       " 25%      0.300000    0.300000    1.175173\n",
       " 50%      0.550000    0.550000    1.198109\n",
       " 75%      0.800000    0.800000    1.226978\n",
       " max      1.000000    1.000000    1.282374,\n",
       " (array([ 4.,  4.,  9., 15., 19., 16., 12., 10.,  7.,  4.]),\n",
       "  array([1.11580078, 1.13245811, 1.14911545, 1.16577278, 1.18243011,\n",
       "         1.19908744, 1.21574478, 1.23240211, 1.24905944, 1.26571677,\n",
       "         1.28237411]),\n",
       "  <BarContainer object of 10 artists>))"
      ]
     },
     "execution_count": 42,
     "metadata": {},
     "output_type": "execute_result"
    },
    {
     "data": {
      "image/png": "[encoded data removed]",
      "text/plain": [
       "<Figure size 432x288 with 1 Axes>"
      ]
     },
     "metadata": {
      "needs_background": "light"
     },
     "output_type": "display_data"
    }
   ],
   "source": [
    "df.describe(), plt.hist(df[\"result\"])"
   ]
  },
  {
   "cell_type": "code",
   "execution_count": null,
   "metadata": {},
   "outputs": [
    {
     "data": {
      "text/plain": [
       "(1.2030031883027643, 0.0016271953360728927, 1.1980196285857998)"
      ]
     },
     "execution_count": 46,
     "metadata": {},
     "output_type": "execute_result"
    }
   ],
   "source": [
    "df[df[\"lc\"] >= df[\"ld\"]][\"result\"].mean() , df[df[\"lc\"] >= df[\"ld\"]][\"result\"].var() ,df[df[\"lc\"] < df[\"ld\"]][\"result\"].mean()"
   ]
  },
  {
   "cell_type": "code",
   "execution_count": null,
   "metadata": {},
   "outputs": [],
   "source": []
  },
  {
   "cell_type": "code",
   "execution_count": 82,
   "metadata": {},
   "outputs": [
    {
     "data": {
      "image/png": "[encoded data removed]",
      "text/plain": [
       "<Figure size 1080x1080 with 2 Axes>"
      ]
     },
     "metadata": {
      "needs_background": "light"
     },
     "output_type": "display_data"
    }
   ],
   "source": [
    "df = pd.read_csv(\"../../output_eval/ratrew_1.txt\")\n",
    "# df\n",
    "df = df.iloc[10:,:]\n",
    "display_grid(df)\n",
    "#---\n"
   ]
  },
  {
   "cell_type": "code",
   "execution_count": null,
   "metadata": {},
   "outputs": [
    {
     "data": {
      "text/plain": [
       "<matplotlib.collections.PathCollection at 0x1ac7c174fd0>"
      ]
     },
     "execution_count": 41,
     "metadata": {},
     "output_type": "execute_result"
    },
    {
     "data": {
      "image/png": "[encoded data removed]",
      "text/plain": [
       "<Figure size 432x288 with 1 Axes>"
      ]
     },
     "metadata": {
      "needs_background": "light"
     },
     "output_type": "display_data"
    }
   ],
   "source": [
    "df = pd.read_csv(\"../../output_eval/statdyn_1.txt\")\n",
    "# display_grid(df,rnge=np.around(np.arange(0.1,2.1,0.1),decimals=2))\n",
    "# display_grid(df,rnge=np.around(np.arange(0.1,2.1,0.1),decimals=2))\n",
    "# df = df[df[\"result\"] > 1.20]\n",
    "df = df[df[\"stat\"] <= 2.] \n",
    "p = df[(df[\"stat\"] - df[\"dyn\"]) >= 0]\n",
    "plt.scatter(p[\"stat\"] - p[\"dyn\"] ,p[\"result\"],c=\"blue\")\n",
    "p = df[(df[\"stat\"] - df[\"dyn\"]) < 0] \n",
    "plt.scatter(p[\"stat\"] - p[\"dyn\"] ,p[\"result\"],c=\"red\")"
   ]
  },
  {
   "cell_type": "code",
   "execution_count": null,
   "metadata": {},
   "outputs": [
    {
     "data": {
      "text/plain": [
       "(count    145.000000\n",
       " mean       1.215079\n",
       " std        0.038457\n",
       " min        1.107540\n",
       " 25%        1.188664\n",
       " 50%        1.215078\n",
       " 75%        1.238667\n",
       " max        1.311378\n",
       " Name: result, dtype: float64,\n",
       " count    55.000000\n",
       " mean      1.206605\n",
       " std       0.035561\n",
       " min       1.105700\n",
       " 25%       1.180693\n",
       " 50%       1.202220\n",
       " 75%       1.238289\n",
       " max       1.269900\n",
       " Name: result, dtype: float64)"
      ]
     },
     "execution_count": 13,
     "metadata": {},
     "output_type": "execute_result"
    }
   ],
   "source": [
    "df_more =  df[df[\"stat\"] >= df[\"dyn\"]] \n",
    "df_less =  df[df[\"stat\"] < df[\"dyn\"]] \n",
    "df_more[\"result\"].describe(), df_less[\"result\"].describe()"
   ]
  },
  {
   "cell_type": "code",
   "execution_count": null,
   "metadata": {},
   "outputs": [
    {
     "data": {
      "text/plain": [
       "10"
      ]
     },
     "execution_count": 12,
     "metadata": {},
     "output_type": "execute_result"
    }
   ],
   "source": []
  }
 ],
 "metadata": {
  "kernelspec": {
   "display_name": "Python 3",
   "language": "python",
   "name": "python3"
  },
  "language_info": {
   "codemirror_mode": {
    "name": "ipython",
    "version": 3
   },
   "file_extension": ".py",
   "mimetype": "text/x-python",
   "name": "python",
   "nbconvert_exporter": "python",
   "pygments_lexer": "ipython3",
   "version": "3.10.0"
  },
  "orig_nbformat": 4,
  "vscode": {
   "interpreter": {
    "hash": "fe2ad0eec00123eebaef0a6ea92e148ed984d27c87d1f28686cded964d3a25ec"
   }
  }
 },
 "nbformat": 4,
 "nbformat_minor": 2
}
