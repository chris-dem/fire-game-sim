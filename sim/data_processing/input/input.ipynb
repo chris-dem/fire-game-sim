{
 "cells": [
  {
   "cell_type": "code",
   "execution_count": 46,
   "metadata": {},
   "outputs": [],
   "source": [
    "# Libraries\n",
    "import json\n",
    "import jsonschema\n",
    "import os\n",
    "import numpy as np\n",
    "import itertools\n",
    "import shutil"
   ]
  },
  {
   "attachments": {},
   "cell_type": "markdown",
   "metadata": {},
   "source": [
    "## Create JSON data for the evacuation\n",
    "\n",
    "### Color coding:\n",
    "* <span style=\"color:lightblue\">▉</span> Good but don't rush or consider\n",
    "* <span style=\"color:lightgreen\">▉</span> Not high prio but might be useful for debugging\n",
    "* <span style=\"color:yellow\">▉</span> Asap, where the testing will actually occur\n",
    "\n",
    "### Params to test\n",
    "\n",
    "#### <span style=\"color:lightblue\">▉</span> Parameters\n",
    "* Sim type : For extension\n",
    "#### <span style=\"color:lightgreen\">▉</span> Parameters\n",
    "* Dims : Maybe just for different scenarios\n",
    "* Map_seed if needed to make a map fixed (Don't really consider)\n",
    "* evac_number\n",
    "#### <span style=\"color:yellow\">▉</span> Parameters\n",
    "* Dynamic movement influence\n",
    "* Aspiration influence and equation\n",
    "* Ratio influence and equation\n",
    "* fire spread\n",
    "* lc/ld\n",
    "* static influence"
   ]
  },
  {
   "attachments": {},
   "cell_type": "markdown",
   "metadata": {},
   "source": [
    "### Create validator function"
   ]
  },
  {
   "cell_type": "code",
   "execution_count": 47,
   "metadata": {},
   "outputs": [
    {
     "name": "stdout",
     "output_type": "stream",
     "text": [
      "True\n"
     ]
    }
   ],
   "source": [
    "schema = {\n",
    "    \"dim\" : {\n",
    "        \"type\" : \"array\",\n",
    "        \"maxItems\" : 2,\n",
    "        \"items\" : {\n",
    "            \"type\" : \"integer\"\n",
    "        }\n",
    "    },\n",
    "    \"sim_type\" : {\n",
    "        \"type\" : \"string\",\n",
    "        \"items\" : { \"enum\" : [\"Flow\" , \"Total\"]}\n",
    "    },\n",
    "    \"param_seed\" : {\n",
    "        \"type\" : [\"integer\", \"null\"]\n",
    "    },\n",
    "    \"setup\" : {\n",
    "        \"type\" : \"object\",\n",
    "        \"properties\" : {\n",
    "            \"map_seed\" : { \"type\" : [\"number\", \"null\"] },\n",
    "            \"initial_fire\" : {\n",
    "                \"type\" : [\"array\" , \"null\"],\n",
    "                \"maxItems\" : 2,\n",
    "                \"items\" : {\n",
    "                    \"type\" : \"integer\"\n",
    "                }\n",
    "            },\n",
    "            \"initial_evac\" : {\n",
    "                \"type\" : [\"array\" , \"null\"],\n",
    "                \"items\" : {\n",
    "                    \"type\" : {\n",
    "                        \"type\" : \"object\",\n",
    "                        \"properties\" : {\n",
    "                            \"strategy\" : {\n",
    "                                \"type\" : \"string\",\n",
    "                                \"items\" : {\"enum\" : [\"Competititve\" , \"Cooperative\"]}\n",
    "                            },\n",
    "                            \"x\" : {\n",
    "                                \"type\" : \"integer\"\n",
    "                            },\n",
    "                            \"y\" : {\n",
    "                                \"type\" : \"integer\"\n",
    "                            },\n",
    "                            \"pr_c\" : {\n",
    "                                \"type\"  : \"float\"\n",
    "                            }\n",
    "                        }                        \n",
    "                    }\n",
    "                }\n",
    "            },\n",
    "            \"evac_number\" : {\n",
    "                \"type\" : \"integer\"\n",
    "            },\n",
    "            \"fire_spread\" : {\n",
    "                \"type\" : [\"number\",\"null\"]\n",
    "            },\n",
    "            \"lc\" : {\n",
    "                \"type\" : [\"number\",\"null\"]\n",
    "            },\n",
    "            \"ld\" : {\n",
    "                \"type\" : [\"number\",\"null\"]\n",
    "            },\n",
    "        }\n",
    "    },\n",
    "    \"fire\" : {\n",
    "        \"type\" : \"object\",\n",
    "        \"properties\" : {\n",
    "            \"frontier\" : {\n",
    "                \"type\" : [\"string\" , \"null\"],\n",
    "                \"items\" : {\n",
    "                    \"enum\" : [\"VecTree\"]\n",
    "                }\n",
    "            },\n",
    "            \"movement\" : {\n",
    "                \"type\" : [\n",
    "                    {\n",
    "                        \"type\" : \"object\",\n",
    "                        \"properties\" : {\n",
    "                            \"ClosestDistance\" : {\n",
    "                                \"type\" : [\"number\", \"null\"]\n",
    "                            }\n",
    "                        }\n",
    "                    },\n",
    "                ]\n",
    "            },\n",
    "            \"aspiration\" : {\n",
    "                \"type\" : [\n",
    "                    {\n",
    "                        \"type\" : \"object\",\n",
    "                        \"properties\" : {\n",
    "                            \"LogAspiration\" :   {\"type\" : [\"number\", \"null\"]},\n",
    "                            \"RootAspiration\" :   {\"type\" : [\"number\", \"null\"]} \n",
    "                        }\n",
    "                    }\n",
    "                ]\n",
    "            },\n",
    "            \"ratio\" : {\n",
    "                \"type\" : [\n",
    "                    {\n",
    "                        \"type\" : \"object\",\n",
    "                        \"properties\" : {\n",
    "                            \"Root\" : {\n",
    "                                \"type\" : [\"number\",  \"null\"]\n",
    "                            },\n",
    "                        }\n",
    "                    },\n",
    "                    {\n",
    "                        \"type\" : \"object\",\n",
    "                        \"properties\" : {\n",
    "                            \"Log\" : {\n",
    "                                \"type\" : [\"number\",  \"null\"]\n",
    "                            }\n",
    "                        }\n",
    "                    },\n",
    "                    {\n",
    "                        \"type\" : \"object\",\n",
    "                        \"properties\" : {\n",
    "                            \"Id\" : {\n",
    "                                \"type\" : [\"number\",  \"null\"]\n",
    "                            }\n",
    "                        }\n",
    "                    },\n",
    "                ]\n",
    "   \n",
    "            },\n",
    "            \"reward_game\" : {\n",
    "                \"type\" : [\n",
    "                    {\n",
    "                        \"type\" : \"object\",\n",
    "                        \"properties\" : {\n",
    "                            \"InvLogRoot\" : {\n",
    "                                \"type\" : [\"number\",  \"null\"]\n",
    "                            },\n",
    "                            \"RewardRoot\" : {\n",
    "                                \"type\" : [\"number\" , \"null\"]\n",
    "                            }\n",
    "                        }\n",
    "                    },\n",
    "                ]\n",
    "   \n",
    "            }\n",
    "        }\n",
    "        \n",
    "    },\n",
    "    \"escape\" : {\n",
    "        \"type\" : \"string\",\n",
    "        \"items\" : {\"enum\" : [\"TimeTracker\"]}\n",
    "    },\n",
    "    \"death\" : {\n",
    "        \"type\" : \"string\",\n",
    "        \"items\" : {\"enum\" : [\"AnnounceInput\"]}\n",
    "    }, \n",
    "    \"static_input\" : {\n",
    "        \"type\" : [\n",
    "            {\n",
    "                \"type\" : \"object\",\n",
    "                \"properties\" : {\n",
    "                    \"ClosestToExit\" : { \"type\" : [\"number\", \"null\"]}\n",
    "                }\n",
    "            }\n",
    "        ]\n",
    "    },\n",
    "}\n",
    "\n",
    "validator = jsonschema.Draft202012Validator(schema)\n",
    "path = \"../../inputs/tests/\"\n",
    "filename = \"base_input.json\"\n",
    "with open(f\"{path}{filename}\") as f:\n",
    "    js_data = json.load(f)\n",
    "    print(validator.is_valid(js_data))\n",
    "names = []\n",
    "filedir = \"\""
   ]
  },
  {
   "cell_type": "code",
   "execution_count": 48,
   "metadata": {},
   "outputs": [],
   "source": [
    "# Default values\n",
    "sim_type = \"Total\"\n",
    "n = 51\n",
    "dims = [n,n]\n",
    "escape = \"TimeTracker\"\n",
    "death = \"AnnounceInput\"\n",
    "param_seed = 20"
   ]
  },
  {
   "cell_type": "code",
   "execution_count": 49,
   "metadata": {},
   "outputs": [],
   "source": [
    "# Populations density\n",
    "perc = [0.085]\n",
    "evac_numbers = []\n",
    "for p in perc:\n",
    "    evac_numbers.append(int(n * n * p))"
   ]
  },
  {
   "cell_type": "code",
   "execution_count": 50,
   "metadata": {},
   "outputs": [],
   "source": [
    "# Learning rates\n",
    "# lc_over_ld = [0.5]\n",
    "# lds = [0.4]\n",
    "# lcldvals = []\n",
    "# for rat in lc_over_ld:\n",
    "#     for ld in lds:\n",
    "#         lcldvals.push(\n",
    "#             [rat * ld,ld]\n",
    "#         )\n",
    "lcldvals = [\n",
    "    (0.3, 0.3)\n",
    "]"
   ]
  },
  {
   "cell_type": "code",
   "execution_count": 51,
   "metadata": {},
   "outputs": [],
   "source": [
    "# Static and Dynamic ratio\n",
    "# dynamic_ratio = 1.\n",
    "# soverd_ratios = [2.]\n",
    "# soverd = []\n",
    "# for rat in soverd_ratios:\n",
    "#     soverd.push(\n",
    "#         [rat * dynamic_ratio, dynamic_ratio]\n",
    "#     )\n",
    "d = 0.972430\n",
    "ss = [1.48319]\n",
    "static_vals = []\n",
    "for v in ss:\n",
    "    static_vals.append({\n",
    "        \"ClosestToExit\" : v\n",
    "    })"
   ]
  },
  {
   "cell_type": "code",
   "execution_count": 52,
   "metadata": {},
   "outputs": [],
   "source": [
    "# Aspirations\n",
    "asp = [0.01]\n"
   ]
  },
  {
   "cell_type": "code",
   "execution_count": 53,
   "metadata": {},
   "outputs": [],
   "source": [
    "# Ratio\n",
    "ratio = [0.6634011009326777]"
   ]
  },
  {
   "cell_type": "code",
   "execution_count": 54,
   "metadata": {},
   "outputs": [],
   "source": [
    "# Reward game\n",
    "reward_game = [0.913287201523695]"
   ]
  },
  {
   "cell_type": "code",
   "execution_count": 55,
   "metadata": {},
   "outputs": [
    {
     "name": "stdout",
     "output_type": "stream",
     "text": [
      "[0.1  0.12 0.14 0.16 0.18 0.2 ]\n"
     ]
    }
   ],
   "source": [
    "# FireSpread\n",
    "f_s = np.around(np.arange(0.1,0.22,0.02),decimals=3)\n",
    "names = tuple(f\"f_s_test_val_{f}.json\" for f in f_s)\n",
    "filedir = \"fire_spread\"\n",
    "print(f_s)"
   ]
  },
  {
   "cell_type": "code",
   "execution_count": 56,
   "metadata": {},
   "outputs": [],
   "source": [
    "# Setup values\n",
    "\n",
    "setups = []\n",
    "for (n, fs, (lc,ld)) in itertools.product(\n",
    "    evac_numbers,\n",
    "    f_s,\n",
    "    lcldvals\n",
    "):\n",
    "    s = {\n",
    "        \"evac_number\" : n\n",
    "    }\n",
    "    if fs is not None:\n",
    "        s[\"fire_spread\"] = fs\n",
    "    if lc is not None:\n",
    "        s[\"lc\"] = lc\n",
    "    if ld is not None:\n",
    "        s[\"ld\"] = ld\n",
    "    setups.append(s)"
   ]
  },
  {
   "cell_type": "code",
   "execution_count": 57,
   "metadata": {},
   "outputs": [],
   "source": [
    "# Fire values\n",
    "fires = []\n",
    "for (a,r,rg) in itertools.product(\n",
    "    asp,\n",
    "    ratio,\n",
    "    reward_game\n",
    "):\n",
    "    fire = {\n",
    "        \"movement\" : {\n",
    "            \"ClosestDistance\" : d \n",
    "        },\n",
    "        \"aspiration\" : {\n",
    "            \"LogAspiration\" : a \n",
    "            # \"RootAspiration\" : a \n",
    "        },\n",
    "        \"ratio\" : {\n",
    "            # \"Root\" : r \n",
    "            \"Log\" : r \n",
    "            # \"Id\" : r \n",
    "        },\n",
    "        \"reward_game\" :  {\n",
    "            # \"InvLogRoot\" : rg\n",
    "            \"RewardRoot\" : rg\n",
    "        }\n",
    "    }\n",
    "    fires.append(fire)"
   ]
  },
  {
   "cell_type": "code",
   "execution_count": 58,
   "metadata": {},
   "outputs": [
    {
     "name": "stdout",
     "output_type": "stream",
     "text": [
      "{'dim': [51, 51], 'param_seed': 20, 'sim_type': 'Total', 'setup': {'evac_number': 221, 'fire_spread': 0.1, 'lc': 0.3, 'ld': 0.3}, 'fire': {'movement': {'ClosestDistance': 0.97243}, 'aspiration': {'LogAspiration': 1e-05}, 'ratio': {'Log': 0.6634011009326777}, 'reward_game': {'RewardRoot': 0.913287201523695}}, 'escape': 'TimeTracker', 'death': 'AnnounceInput', 'static_input': {'ClosestToExit': 1.48319}}\n",
      "True\n",
      "{'dim': [51, 51], 'param_seed': 20, 'sim_type': 'Total', 'setup': {'evac_number': 221, 'fire_spread': 0.12, 'lc': 0.3, 'ld': 0.3}, 'fire': {'movement': {'ClosestDistance': 0.97243}, 'aspiration': {'LogAspiration': 1e-05}, 'ratio': {'Log': 0.6634011009326777}, 'reward_game': {'RewardRoot': 0.913287201523695}}, 'escape': 'TimeTracker', 'death': 'AnnounceInput', 'static_input': {'ClosestToExit': 1.48319}}\n",
      "True\n",
      "{'dim': [51, 51], 'param_seed': 20, 'sim_type': 'Total', 'setup': {'evac_number': 221, 'fire_spread': 0.14, 'lc': 0.3, 'ld': 0.3}, 'fire': {'movement': {'ClosestDistance': 0.97243}, 'aspiration': {'LogAspiration': 1e-05}, 'ratio': {'Log': 0.6634011009326777}, 'reward_game': {'RewardRoot': 0.913287201523695}}, 'escape': 'TimeTracker', 'death': 'AnnounceInput', 'static_input': {'ClosestToExit': 1.48319}}\n",
      "True\n",
      "{'dim': [51, 51], 'param_seed': 20, 'sim_type': 'Total', 'setup': {'evac_number': 221, 'fire_spread': 0.16, 'lc': 0.3, 'ld': 0.3}, 'fire': {'movement': {'ClosestDistance': 0.97243}, 'aspiration': {'LogAspiration': 1e-05}, 'ratio': {'Log': 0.6634011009326777}, 'reward_game': {'RewardRoot': 0.913287201523695}}, 'escape': 'TimeTracker', 'death': 'AnnounceInput', 'static_input': {'ClosestToExit': 1.48319}}\n",
      "True\n",
      "{'dim': [51, 51], 'param_seed': 20, 'sim_type': 'Total', 'setup': {'evac_number': 221, 'fire_spread': 0.18, 'lc': 0.3, 'ld': 0.3}, 'fire': {'movement': {'ClosestDistance': 0.97243}, 'aspiration': {'LogAspiration': 1e-05}, 'ratio': {'Log': 0.6634011009326777}, 'reward_game': {'RewardRoot': 0.913287201523695}}, 'escape': 'TimeTracker', 'death': 'AnnounceInput', 'static_input': {'ClosestToExit': 1.48319}}\n",
      "True\n",
      "{'dim': [51, 51], 'param_seed': 20, 'sim_type': 'Total', 'setup': {'evac_number': 221, 'fire_spread': 0.2, 'lc': 0.3, 'ld': 0.3}, 'fire': {'movement': {'ClosestDistance': 0.97243}, 'aspiration': {'LogAspiration': 1e-05}, 'ratio': {'Log': 0.6634011009326777}, 'reward_game': {'RewardRoot': 0.913287201523695}}, 'escape': 'TimeTracker', 'death': 'AnnounceInput', 'static_input': {'ClosestToExit': 1.48319}}\n",
      "True\n"
     ]
    }
   ],
   "source": [
    "# Final\n",
    "jsons = []\n",
    "for (s, setup, fire) in itertools.product(\n",
    "    static_vals,\n",
    "    setups,\n",
    "    fires,\n",
    "):\n",
    "    jsons.append({\n",
    "        \"dim\" : dims,\n",
    "        \"param_seed\" :param_seed,\n",
    "        \"sim_type\" : sim_type,\n",
    "        \"setup\" : setup,\n",
    "        \"fire\" : fire,\n",
    "        \"escape\" : escape,\n",
    "        \"death\" : death,\n",
    "        \"static_input\" : s\n",
    "    })\n",
    "for js in jsons:\n",
    "    print(js)\n",
    "    print(validator.is_valid(js))"
   ]
  },
  {
   "cell_type": "code",
   "execution_count": 59,
   "metadata": {},
   "outputs": [],
   "source": [
    "## Clear folder\n",
    "\n",
    "dir_to_write_to = os.path.abspath(f\"{path}/{filedir}\")\n",
    "for filename in os.listdir(dir_to_write_to):\n",
    "    file_path = os.path.join(dir_to_write_to, filename)\n",
    "    try:\n",
    "        if os.path.isfile(file_path) or os.path.islink(file_path):\n",
    "            os.unlink(file_path)\n",
    "        elif os.path.isdir(file_path):\n",
    "            shutil.rmtree(file_path)\n",
    "    except Exception as e:\n",
    "        print('Failed to delete %s. Reason: %s' % (file_path, e))"
   ]
  },
  {
   "cell_type": "code",
   "execution_count": 60,
   "metadata": {},
   "outputs": [
    {
     "name": "stdout",
     "output_type": "stream",
     "text": [
      "c:\\Users\\csdem\\OneDrive\\Desktop\\Dissertation\\evac-sim\\sim\\inputs\\tests\\fire_spread\n"
     ]
    }
   ],
   "source": [
    "# Save data\n",
    "assert len(jsons) == len(names)\n",
    "dir_to_write_to = os.path.abspath(f\"{path}/{filedir}\")\n",
    "json_obj = None\n",
    "for (js,n) in zip(jsons, names):\n",
    "    json_obj = json.dumps(js, indent=4)\n",
    "    with open(f\"{dir_to_write_to}\\\\{n}\",\"w\") as out:\n",
    "        out.write(json_obj)\n",
    "    json_obj = None\n",
    "print(dir_to_write_to)"
   ]
  }
 ],
 "metadata": {
  "kernelspec": {
   "display_name": "Python 3",
   "language": "python",
   "name": "python3"
  },
  "language_info": {
   "codemirror_mode": {
    "name": "ipython",
    "version": 3
   },
   "file_extension": ".py",
   "mimetype": "text/x-python",
   "name": "python",
   "nbconvert_exporter": "python",
   "pygments_lexer": "ipython3",
   "version": "3.10.0"
  },
  "orig_nbformat": 4,
  "vscode": {
   "interpreter": {
    "hash": "fe2ad0eec00123eebaef0a6ea92e148ed984d27c87d1f28686cded964d3a25ec"
   }
  }
 },
 "nbformat": 4,
 "nbformat_minor": 2
}
